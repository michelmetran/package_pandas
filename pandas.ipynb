{
 "cells": [
  {
   "cell_type": "markdown",
   "metadata": {},
   "source": [
    "---\n",
    "layout: post\n",
    "title: Folium\n",
    "subtitle: Exercícios e Referências\n",
    "tags: [python, pycharm, jupyter, package, folium]\n",
    "image: /img/posts/icon_Folium.png\n",
    "bigimg: /img/posts/big_Folium.png\n",
    "gh-repo: michelmetran/package_folium\n",
    "gh-badge: [follow, star, watch, fork]\n",
    "comments: true\n",
    "\n",
    "---"
   ]
  },
  {
   "cell_type": "markdown",
   "metadata": {},
   "source": [
    "O <a title=\"Link do Folium\" href=\"https://python-visualization.github.io/folium/index.html\" target=\"_blank\">**_Folium_**</a> é um pacote que possibilita a criação de mapas _online_, facilitando a visualização dos dados manipulados no _Python_ em um mapa que usa a biblioteca JavaScript <a title=\"Link do Leaflet\" href=\"https://leafletjs.com/\" target=\"_blank\">**_Leaflet_**</a>.\n",
    "\n",
    "A biblioteca possui vários conjuntos de blocos internos do OpenStreetMap, Mapbox e Stamen, além de suportar conjuntos de blocos customizados com as chaves da API Mapbox ou Cloudmade. **_Folium_** suporta sobreposições de imagem, vídeo, GeoJSON e TopoJSON.\n",
    "<br>\n",
    "\n",
    "{: .box-warning}\n",
    "**Aviso:** Esse _post_ tem a finalidade de mostrar os comandos básicos e me deixar com uma \"cola\" rápida para meu uso cotidiano. Todas os códigos são exemplificativos e podem/devem ser alterados, indicando o nome dos arquivos e diretórios corretamente.\n",
    "\n",
    "{: .box-note}\n",
    "**Nota:** É possível acessar esse _post_ em <a title=\"Link do Folium\" href=\"https://github.com/michelmetran/package_folium/raw/master/docs/folium.pdf\" target=\"_blank\">**formato .pdf**</a> e, ainda, no <a title=\"Link do Repositório\" href=\"https://github.com/michelmetran/package_folium\" target=\"_blank\">**repositório do GitHub**</a>."
   ]
  },
  {
   "cell_type": "markdown",
   "metadata": {},
   "source": [
    "<br>\n",
    "\n",
    "## Importando Bibliotecas\n",
    "\n",
    "As bibliotecas básicas, ou _packages_, necessárias para criação do mapa são:\n",
    "- O **_Pandas_**, que tem a missão de trabalhar com dados, criar _subsets_, selecionar e filtros dados e;\n",
    "- O **_Folium_**, que é a biblioteca que cria, na prática, o mapa!"
   ]
  },
  {
   "cell_type": "code",
   "execution_count": null,
   "metadata": {},
   "outputs": [],
   "source": [
    "import pandas as pd\n",
    "import folium"
   ]
  },
  {
   "cell_type": "markdown",
   "metadata": {},
   "source": [
    "<br>\n",
    "\n",
    "## Criando um mapa\n",
    "\n",
    "Basta um par de coordenadas -- que pode ser obtida facilmente no _link_ de qualquer endereço usando <a title=\"Link do Google Maps\" href=\"https://www.google.com.br/maps\" target=\"_blank\">**_Google Maps_**</a> -- e um nível de zoom que o mapa já está criado."
   ]
  },
  {
   "cell_type": "code",
   "execution_count": null,
   "metadata": {},
   "outputs": [],
   "source": [
    "folium.Map(\n",
    "    location=[-23.9619271,-46.3427499],      # Define coordenadas iniciais\n",
    "    #min_zoom = 6,                           # Define qual o menor zoom\n",
    "    #max_zoom = 14,                          # Define qual o maior zoom\n",
    "    #no_wrap = True,\n",
    "    #max_bounds = True,\n",
    "    zoom_start=12                            # Define o zoom do início\n",
    ")"
   ]
  },
  {
   "cell_type": "markdown",
   "metadata": {},
   "source": [
    "Utilizando um conjunto de dados apresentado em <a title=\"Link de Jessica Temporal\" href=\"https://jtemporal.com/folium\" target=\"_blank\">**Jessica Temporal**</a>, contendo coordenadas geográficas de empresas, podemos extrair uma empresa específica e plotar no mapa, ou ainda trabalhar de outras maneiras com esses dados."
   ]
  },
  {
   "cell_type": "code",
   "execution_count": null,
   "metadata": {},
   "outputs": [],
   "source": [
    "# Lendo e filtrando dados\n",
    "empresas = pd.read_csv('data/empresas.xz')\n",
    "empresas = empresas[empresas['state'] == 'SP']\n",
    "empresas = empresas[empresas['city'] == 'SANTOS']\n",
    "\n",
    "empresas.dtypes"
   ]
  },
  {
   "cell_type": "markdown",
   "metadata": {},
   "source": [
    "<br>\n",
    "\n",
    "### Inserindo algumas coordenadas"
   ]
  },
  {
   "cell_type": "code",
   "execution_count": null,
   "metadata": {},
   "outputs": [],
   "source": [
    "# Cria o mapa\n",
    "webmap = folium.Map(\n",
    "    location=[-23.9619271,-46.3427499],\n",
    "    zoom_start=12\n",
    ")\n",
    "\n",
    "# Extrai informações de duas empresas\n",
    "empresa1 = empresas.iloc[0]\n",
    "empresa2 = empresas.iloc[1]\n",
    "\n",
    "# Adiciona no mapa tais empresas\n",
    "folium.Marker(\n",
    "    location=[empresa1['latitude'], empresa1['longitude']],\n",
    ").add_to(webmap)\n",
    "\n",
    "folium.Marker(\n",
    "    location=[empresa2['latitude'], empresa2['longitude']],\n",
    ").add_to(webmap)\n",
    "\n",
    "# Apresenta o mapa\n",
    "webmap"
   ]
  },
  {
   "cell_type": "markdown",
   "metadata": {},
   "source": [
    "<br>\n",
    "\n",
    "### Inserindo multiplas coordenadas"
   ]
  },
  {
   "cell_type": "code",
   "execution_count": null,
   "metadata": {},
   "outputs": [],
   "source": [
    "# Cria o mapa\n",
    "webmap = folium.Map(\n",
    "    location=[-23.9619271,-46.3427499],\n",
    "    zoom_start=12\n",
    ")\n",
    "\n",
    "# Adiciona todas as empresas selecionadas\n",
    "for _, empresa in empresas.iterrows():\n",
    "    folium.Marker(\n",
    "        location=[empresa['latitude'], empresa['longitude']],\n",
    "        tooltip=empresa['neighborhood'],\n",
    "    ).add_to(webmap)\n",
    "\n",
    "# Apresenta o mapa\n",
    "#webmap"
   ]
  },
  {
   "cell_type": "markdown",
   "metadata": {},
   "source": [
    "<br>\n",
    "\n",
    "## Tipos diferentes de Marcadores\n",
    "\n",
    "As feições que são possiveis de apresentar são àquelas típicas do geoprocessamento:\n",
    "- Pontos;\n",
    "- Linhas;\n",
    "- Polígonos\n",
    "\n",
    "Abaixo são apresentados alguns tipos de marcadores."
   ]
  },
  {
   "cell_type": "markdown",
   "metadata": {},
   "source": [
    "### Pontos Simples"
   ]
  },
  {
   "cell_type": "code",
   "execution_count": null,
   "metadata": {},
   "outputs": [],
   "source": [
    "# Cria o mapa\n",
    "webmap = folium.Map(\n",
    "    location=[-23.9619271,-46.3427499],\n",
    "    zoom_start=12\n",
    ")\n",
    "\n",
    "# Cria cores para as tags\n",
    "colors = {\n",
    "    'PONTA DA PRAIA': 'pink',\n",
    "    'CENTRO': 'blue',\n",
    "    'GONZAGA': 'green',\n",
    "    'JOSÉ MENINO': 'red',\n",
    "    'EMBARE': 'beige',\n",
    "    'MACUCO': 'blue',\n",
    "    'VILA MATHIAS': 'lightblue',\n",
    "    'POMPEIA': 'red',\n",
    "    'APARECIDA': 'purple',\n",
    "}\n",
    "\n",
    "# Adiciona as diferentes empresas com cores por bairros\n",
    "for _, empresa in empresas.iterrows():\n",
    "    if empresa['neighborhood'] in colors.keys():\n",
    "        folium.Marker(\n",
    "            location=[empresa['latitude'], empresa['longitude']],\n",
    "            popup=empresa['name'],\n",
    "            tooltip=empresa['neighborhood'],\n",
    "            icon=folium.Icon(color=colors[empresa['neighborhood']], icon='leaf')\n",
    "        ).add_to(webmap)\n",
    "\n",
    "# Apresenta o mapa\n",
    "#webmap"
   ]
  },
  {
   "cell_type": "markdown",
   "metadata": {},
   "source": [
    "### Marcador Circular"
   ]
  },
  {
   "cell_type": "code",
   "execution_count": null,
   "metadata": {},
   "outputs": [],
   "source": [
    "# Cria o mapa\n",
    "webmap = folium.Map(\n",
    "    location=[-23.9619271,-46.3427499],\n",
    "    zoom_start=12\n",
    ")\n",
    "\n",
    "# Adiciona as diferentes empresas com cores por bairros\n",
    "for _, empresa in empresas.iterrows():\n",
    "    if empresa['neighborhood'] in colors.keys():\n",
    "        folium.CircleMarker(\n",
    "        location=[empresa['latitude'], empresa['longitude']],        \n",
    "        radius=10,\n",
    "        popup='<strong>Empresa</strong>',\n",
    "        tooltip='Dica',\n",
    "        fill=True,\n",
    "        #fill_color='#428bca'\n",
    "        fill_color=colors[empresa['neighborhood']]\n",
    "    ).add_to(webmap)\n",
    "\n",
    "# Apresenta o mapa\n",
    "#webmap"
   ]
  },
  {
   "cell_type": "markdown",
   "metadata": {},
   "source": [
    "### Custom Icon"
   ]
  },
  {
   "cell_type": "code",
   "execution_count": null,
   "metadata": {},
   "outputs": [],
   "source": [
    "#logoIcon = folium.features.CustomIcon('logo.png', icon_size=(50,50))"
   ]
  },
  {
   "cell_type": "markdown",
   "metadata": {},
   "source": [
    "### Vegas\n",
    "O _folium_ tem o vegas https://vega.github.io/vega/ como default"
   ]
  },
  {
   "cell_type": "code",
   "execution_count": null,
   "metadata": {},
   "outputs": [],
   "source": [
    "# Cria o mapa\n",
    "webmap = folium.Map(\n",
    "    location=[-23.9619271,-46.3427499],\n",
    "    zoom_start=12\n",
    ")\n",
    "\n",
    "# Importa bibliotecas e lê o json\n",
    "import os\n",
    "import json\n",
    "vis = os.path.join('data', 'vis.json')\n",
    "\n",
    "\n",
    "# Adiciona as diferentes empresas com gráficos no popup\n",
    "for _, empresa in empresas.iterrows():\n",
    "    if empresa['neighborhood'] in colors.keys():\n",
    "        folium.Marker(\n",
    "            location=[empresa['latitude'], empresa['longitude']],            \n",
    "            popup=folium.Popup(max_width=450).add_child(folium.Vega(json.load(open(vis)), width=450, height=250))\n",
    ").add_to(webmap)\n",
    "        \n",
    "# Apresenta o mapa\n",
    "#webmap"
   ]
  },
  {
   "cell_type": "markdown",
   "metadata": {},
   "source": [
    "### Geojson\n",
    "\n",
    "É possivel também inserir desenhos em formato **_GeoJson_**, o que abre grandes possibilidades.\n",
    "Contudo, para rabiscos aleatórios, é possivel criar o arquivo usando http://geojson.io."
   ]
  },
  {
   "cell_type": "code",
   "execution_count": null,
   "metadata": {},
   "outputs": [],
   "source": [
    "# Cria o mapa\n",
    "webmap = folium.Map(\n",
    "    location=[-23.9619271,-46.3427499],\n",
    "    zoom_start=12\n",
    ")\n",
    "\n",
    "# Importa bibliotecas e lê o json\n",
    "import os\n",
    "import json\n",
    "shp = os.path.join('data', 'trajetos.json')\n",
    "\n",
    "# Adiciona as diferentes empresas com gráficos no popup\n",
    "folium.GeoJson(shp, name='Trajetos').add_to(webmap)\n",
    "        \n",
    "# Apresenta o mapa\n",
    "webmap"
   ]
  },
  {
   "cell_type": "markdown",
   "metadata": {},
   "source": [
    "### _Join_ e Categorias"
   ]
  },
  {
   "cell_type": "code",
   "execution_count": null,
   "metadata": {},
   "outputs": [],
   "source": [
    "import folium\n",
    "import pandas as pd\n",
    "import os\n",
    "\n",
    "states = os.path.join('data', 'us-states.json')\n",
    "unemployement_data = os.path.join('data', 'us_unemployment.csv')\n",
    "state_data = pd.read_csv(unemployement_data)\n",
    "\n",
    "m = folium.Map(location=[48, -102], zoom_start=3)\n",
    "\n",
    "folium.Choropleth(\n",
    "    geo_data=states,\n",
    "    name='choropleth',\n",
    "    data=state_data,\n",
    "    columns=['State', 'Unemployment'],\n",
    "    key_on='feature.id',\n",
    "    fill_color='YlGn',\n",
    "    fill_opacity=0.7,\n",
    "    line_opacity=0.2,\n",
    "    legend_name='Unemployment Rate %'\n",
    ").add_to(m)\n",
    "\n",
    "folium.LayerControl().add_to(m)\n",
    "m\n",
    "#m.save('../maps/map_us.html')"
   ]
  },
  {
   "cell_type": "markdown",
   "metadata": {},
   "source": [
    "<br>\n",
    "\n",
    "## Basemap"
   ]
  },
  {
   "cell_type": "markdown",
   "metadata": {},
   "source": [
    "O mapa pode ter diferentes _basemaps_, que são, na essência, o mapa de fundo renderizado em _titles_. O _folium_ utiliza, por _default_, o basemap do _OpenStreetMap_, contudo existe a possibilidade d eadicionar outros serviços, conforme se vê abaixo."
   ]
  },
  {
   "cell_type": "code",
   "execution_count": null,
   "metadata": {},
   "outputs": [],
   "source": [
    "folium.Map(\n",
    "    location=[-23.9619271,-46.3427499],\n",
    "    #tiles='Mapbox Bright',\n",
    "    #tiles='Mapbox Control Room',\n",
    "    #tiles='Stamen Toner',\n",
    "    tiles='Stamen Terrain',\n",
    "    #tiles='OpenStreetMap',\n",
    "    zoom_start=12\n",
    ")"
   ]
  },
  {
   "cell_type": "markdown",
   "metadata": {},
   "source": [
    "Um outro jeito de inserir _basemaps_ é utilizado o <a title=\"Link do MapBox\" href=\"https://www.mapbox.com\" target=\"_blank\">MapBox</a>, onde é possível customizar um _basemap_ personalizado, bem como utilizar outros _basemaps_ pré-existentes, incluindo imagens de satélite de alta resolução, etc.\n",
    "\n",
    "Para melhor utilização, com a possiblidade de disponibilizar códigos, é necessário estudar a melhor maneira de ocultar a _API key_. Um início:\n",
    "- http://www.blacktechdiva.com/hide-api-keys/\n",
    "- https://www.quora.com/How-do-you-hide-your-API-customer-key-token-when-youre-pushing-code-to-Github"
   ]
  },
  {
   "cell_type": "code",
   "execution_count": null,
   "metadata": {},
   "outputs": [],
   "source": [
    "#folium.Map(location=[-23.9619271,-46.3427499],\n",
    "#           tiles='Mapbox',\n",
    "#           API_key='your.API.key',\n",
    "#           zoom_start=12\n",
    "#          )"
   ]
  },
  {
   "cell_type": "markdown",
   "metadata": {},
   "source": [
    "Por fim, é possivel ainda inserir _basemaps_ personalizados, disponibilizados em algum servidor."
   ]
  },
  {
   "cell_type": "code",
   "execution_count": null,
   "metadata": {},
   "outputs": [],
   "source": [
    "# Cria o mapa com servidores dos tiles\n",
    "folium.Map(location=[-23.9619271,-46.3427499],\n",
    "           zoom_start=12,\n",
    "           tiles='http://{s}.tile.osm.org/{z}/{x}/{y}.png',\n",
    "           attr='s'\n",
    "          )"
   ]
  },
  {
   "cell_type": "code",
   "execution_count": null,
   "metadata": {},
   "outputs": [],
   "source": [
    "# %load '~/Documents/SourceCode/Codes/maps/create_tiles_folium.py'\n",
    "def create_tiles_folium(tile_service=1, location=[-23.9619271, -46.3427499], zoom_start=10):\n",
    "    \"\"\"\n",
    "    Function to create map using tiles... a list of them\n",
    "    - https://www.spatialbias.com/2018/02/qgis-3.0-xyz-tile-layers/\n",
    "    - https://xyz.michelstuyts.be/\n",
    "    - https://www.trailnotes.org/FetchMap/TileServeSource.html\n",
    "\n",
    "    :param tile_service:\n",
    "    :param location:\n",
    "    :param zoom_start:\n",
    "    :return:\n",
    "    \"\"\"\n",
    "    # Import Packages\n",
    "    import pandas as pd\n",
    "    import folium\n",
    "\n",
    "    # Read table with all tiles servers\n",
    "    tiles_services = pd.read_csv('~/Documents/SourceCode/Codes/data/tiles.csv', index_col=0)\n",
    "    # print(tiles_services)\n",
    "\n",
    "    # Create reference to attribution\n",
    "    ref = ('<a href=\"' +\n",
    "           tiles_services.loc[tile_service, 'attribution'] +\n",
    "           '\" target=\"blank\">' +\n",
    "           tiles_services.loc[tile_service, 'name'] +\n",
    "           '</a>')\n",
    "\n",
    "    return folium.Map(location=location,\n",
    "                      zoom_start=zoom_start,\n",
    "                      tiles=tiles_services.loc[tile_service, 'link'],\n",
    "                      attr=ref)\n"
   ]
  },
  {
   "cell_type": "code",
   "execution_count": null,
   "metadata": {},
   "outputs": [],
   "source": [
    "create_tiles_folium(1)"
   ]
  },
  {
   "cell_type": "markdown",
   "metadata": {},
   "source": [
    "<br>\n",
    "\n",
    "### Outros elementos do _WebMap_"
   ]
  },
  {
   "cell_type": "code",
   "execution_count": null,
   "metadata": {},
   "outputs": [],
   "source": [
    "# Adiciona legenda\n",
    "folium.LayerControl().add_to(webmap)\n",
    "webmap\n",
    "\n",
    "# Adiciona a possibilidade de pontos, on-the-fly\n",
    "webmap.add_child(folium.ClickForMarker(popup='Waypoint'))\n",
    "\n",
    "# Adiciona a possibilidade de, a cada clique, descobrir as coordenadas\n",
    "webmap.add_child(folium.LatLngPopup())"
   ]
  },
  {
   "cell_type": "code",
   "execution_count": null,
   "metadata": {},
   "outputs": [],
   "source": [
    "# Cria o mapa\n",
    "webmap = folium.Map(\n",
    "    location=[-23.9619271,-46.3427499],\n",
    "    zoom_start=12\n",
    ")\n",
    "\n",
    "# Cálculo de Distâncias\n",
    "from folium import plugins\n",
    "\n",
    "# Adiciona ferramenta de medição\n",
    "from folium.plugins import MeasureControl\n",
    "webmap.add_child(MeasureControl())\n",
    "\n",
    "# Fairly obvious I imagine - works best with transparent backgrounds\n",
    "from folium.plugins import FloatImage\n",
    "url = ('https://media.licdn.com/mpr/mpr/shrinknp_100_100/AAEAAQAAAAAAAAlgAAAAJGE3OTA4YTdlLTkzZjUtNDFjYy1iZThlLWQ5OTNkYzlhNzM4OQ.jpg')\n",
    "FloatImage(url, bottom=5, left=85).add_to(webmap)\n",
    "\n",
    "plugins.Fullscreen(\n",
    "    position='topleft',\n",
    "    title='Clique para Maximizar',\n",
    "    title_cancel='Mininizar',\n",
    "    force_separate_button=True).add_to(webmap)\n",
    "\n",
    "# Apresenta o mapa\n",
    "webmap"
   ]
  },
  {
   "cell_type": "markdown",
   "metadata": {},
   "source": [
    "<br>\n",
    "\n",
    "## Salvar o mapa em HTML\n",
    "\n",
    "A grande vantagem é salvar o mapa como um arquivo _.html_, bastante possivel para dar um _embed_ em qualquer página. Para salvar o resultado em um dado local, criei uma função que pode contribuir, avaliando se determinadas pastas estão criadas e, em caso negativo, cria as mesmas. Em uma destas pastas que ficará salvo o arquivo _.html_ criado"
   ]
  },
  {
   "cell_type": "code",
   "execution_count": null,
   "metadata": {},
   "outputs": [],
   "source": [
    "# %load '~/Documents/SourceCode/Codes/files/create_folders.py'\n",
    "def create_folders(path, folders=['code', 'data', 'docs', 'maps']):\n",
    "    \"\"\"\n",
    "    :param folders: Name os folders that you want create; E.g.: ['folder1', 'folder2']\n",
    "    :return: Create directories if not exist\n",
    "    \"\"\"\n",
    "    # Import Packages\n",
    "    import os\n",
    "    for folder in folders:\n",
    "        directory=os.path.join(path, folder)\n",
    "        try:\n",
    "            if not os.path.exists(directory):\n",
    "                os.makedirs(directory)\n",
    "                print('Directory \"', directory, '\" created!', sep='')\n",
    "            else:\n",
    "                print('Directory \"', directory, '\" already exists...', sep='')\n",
    "        except OSError:\n",
    "            print('Error: Creating directory \"', directory, '\" fail.', sep='')\n"
   ]
  },
  {
   "cell_type": "code",
   "execution_count": null,
   "metadata": {},
   "outputs": [],
   "source": [
    "#from importlib import reload\n",
    "#reload(os)\n",
    "# Pasta Atual\n",
    "path_script = os.getcwd()\n",
    "print(path_script)"
   ]
  },
  {
   "cell_type": "code",
   "execution_count": null,
   "metadata": {},
   "outputs": [],
   "source": [
    "# Altera a pasta para um nível acima\n",
    "os.chdir('/home/michel/Documents/SourceCode/package_pandas')\n",
    "\n",
    "# Pasta Atual\n",
    "print(os.getcwd())"
   ]
  },
  {
   "cell_type": "code",
   "execution_count": null,
   "metadata": {},
   "outputs": [],
   "source": [
    "create_folders('')"
   ]
  },
  {
   "cell_type": "code",
   "execution_count": null,
   "metadata": {},
   "outputs": [],
   "source": [
    "os.chdir(path_script)"
   ]
  },
  {
   "cell_type": "code",
   "execution_count": null,
   "metadata": {},
   "outputs": [],
   "source": [
    "print(os.getcwd())"
   ]
  },
  {
   "cell_type": "code",
   "execution_count": null,
   "metadata": {},
   "outputs": [],
   "source": [
    "webmap.save('maps/map.html')"
   ]
  },
  {
   "cell_type": "markdown",
   "metadata": {},
   "source": [
    "O mapa em _.html_, que é possivel acessar por usando o <a title=\"Link do GitHack\" href=\"https://raw.githack.com\" target=\"_blank\">**_githack.com_**</a>. conforme segue:\n",
    "\n",
    "<iframe src=\"https://raw.githack.com/michelmetran/package_folium/master/maps/map.html\" width=\"800\" height=\"300\" frameborder=\"0\"></iframe>"
   ]
  },
  {
   "cell_type": "markdown",
   "metadata": {},
   "source": [
    "<br>\n",
    "\n",
    "## Exportando o _Juptyter Notebook_ para outros formatos\n",
    "Caso esse códigos sirvam para "
   ]
  },
  {
   "cell_type": "code",
   "execution_count": null,
   "metadata": {},
   "outputs": [],
   "source": [
    "# %load '~/Documents/SourceCode/Codes/files/get_jupyternotebook_name.py'\n",
    "def get_jupyternotebook_name():\n",
    "    \"\"\"\n",
    "    Returns the name of the current notebook as a string\n",
    "    From https://mail.scipy.org/pipermail/ipython-dev/2014-June/014096.html\n",
    "    :return: Returns the name of the current notebook as a string\n",
    "    \"\"\"\n",
    "    # Import Packages\n",
    "    from IPython.core.display import Javascript\n",
    "    from IPython.display import display\n",
    "\n",
    "    display(Javascript('IPython.notebook.kernel.execute(\"theNotebook = \" + \\\n",
    "    \"\\'\"+IPython.notebook.notebook_name+\"\\'\");'))\n",
    "\n",
    "    # Result\n",
    "    return theNotebook\n"
   ]
  },
  {
   "cell_type": "code",
   "execution_count": null,
   "metadata": {},
   "outputs": [],
   "source": [
    "# %load '~/Documents/SourceCode/Codes/files/export_jupyter.py'            \n",
    "def export_jupyter(path, extensions=['html', 'markdown', 'latex', 'pdf', 'python'], today=True):\n",
    "    \"\"\"\n",
    "    Export .ipynb file to others formats\n",
    "    :return: File in other formats\n",
    "    \"\"\"\n",
    "    # Import Packages\n",
    "    import os\n",
    "    import datetime\n",
    "\n",
    "    # Data\n",
    "    timestamp = datetime.datetime.now()\n",
    "    srt_today = (str(timestamp.year) + '-' +\n",
    "                 str(f\"{timestamp.month:02d}\") + '-' +\n",
    "                 str(f\"{timestamp.day:02d}\"))\n",
    "\n",
    "    # Extensions\n",
    "    for extension in extensions:\n",
    "        if today==True:\n",
    "            os.system('jupyter nbconvert --to {} {} --output {}'.\n",
    "                      format(extension, get_jupyternotebook_name(),\n",
    "                             os.path.join(path, srt_today+'-'+get_jupyternotebook_name().split('.')[0])))\n",
    "            print('Arquivo {} exportado corretamente para o formato {} usando prefixo da data.'.\n",
    "                  format(get_jupyternotebook_name(), extension))\n",
    "\n",
    "        else:\n",
    "            os.system('jupyter nbconvert --to {} {} --output {}'.\n",
    "                      format(extension, get_jupyternotebook_name(),\n",
    "                             os.path.join(path, get_jupyternotebook_name().split('.')[0])))\n",
    "            print('Arquivo {} exportado corretamente para o formato {} sem usar prefixo da data.'.\n",
    "                  format(get_jupyternotebook_name(), extension))\n"
   ]
  },
  {
   "cell_type": "code",
   "execution_count": null,
   "metadata": {},
   "outputs": [],
   "source": [
    "export_jupyter('../docs',['pdf'], False)"
   ]
  },
  {
   "cell_type": "code",
   "execution_count": null,
   "metadata": {},
   "outputs": [],
   "source": [
    "export_jupyter('../docs',['markdown'], True)\n",
    "export_jupyter('/home/michel/Documents/SourceCode/michelmetran.github.io/_posts', ['markdown'], True)"
   ]
  },
  {
   "cell_type": "markdown",
   "metadata": {},
   "source": [
    "<br>\n",
    "\n",
    "## Atualizando Repositório do Projeto"
   ]
  },
  {
   "cell_type": "code",
   "execution_count": null,
   "metadata": {},
   "outputs": [],
   "source": [
    "import os\n",
    "\n",
    "# Pasta Atual\n",
    "print(os.getcwd())\n",
    "\n",
    "# Altera a pasta para um nível acima\n",
    "os.chdir('/home/michel/Documents/SourceCode/package_folium')\n",
    "\n",
    "# Confere a pasta\n",
    "print(os.getcwd())"
   ]
  },
  {
   "cell_type": "code",
   "execution_count": null,
   "metadata": {},
   "outputs": [],
   "source": [
    "!git add --all\n",
    "!git commit -m \"Initial commit\"\n",
    "!git push -u origin master"
   ]
  },
  {
   "cell_type": "markdown",
   "metadata": {},
   "source": [
    "<br>\n",
    "\n",
    "## Atualizando Repositório do Site"
   ]
  },
  {
   "cell_type": "code",
   "execution_count": null,
   "metadata": {},
   "outputs": [],
   "source": [
    "import os\n",
    "\n",
    "# Pasta Atual\n",
    "print(os.getcwd())\n",
    "\n",
    "# Altera a pasta para um nível acima\n",
    "os.chdir('/home/michel/Documents/SourceCode/michelmetran.github.io')\n",
    "\n",
    "# Confere a pasta\n",
    "print(os.getcwd())"
   ]
  },
  {
   "cell_type": "code",
   "execution_count": null,
   "metadata": {},
   "outputs": [],
   "source": [
    "!git add --all\n",
    "!git commit -m \"Initial commit\"\n",
    "!git push -u origin master"
   ]
  },
  {
   "cell_type": "markdown",
   "metadata": {},
   "source": [
    "<br>\n",
    "\n",
    "## Referências\n",
    "- https://www.freecodecamp.org/news/real-world-data-science-project-traffic-accident-analysis-e5a36775ee11/\n",
    "- Muita coisa interessante em https://www.youtube.com/watch?v=4RnU5qKTfYY\n",
    "- https://jtemporal.com/folium/\n",
    "- https://www.kaggle.com/rachan/how-to-folium-for-maps-heatmaps-time-analysis"
   ]
  }
 ],
 "metadata": {
  "kernelspec": {
   "display_name": "Python [conda env:pablocarreira-py36] *",
   "language": "python",
   "name": "conda-env-pablocarreira-py36-py"
  },
  "toc": {
   "base_numbering": 1,
   "nav_menu": {},
   "number_sections": true,
   "sideBar": true,
   "skip_h1_title": false,
   "title_cell": "Table of Contents",
   "title_sidebar": "Contents",
   "toc_cell": false,
   "toc_position": {
    "height": "calc(100% - 180px)",
    "left": "10px",
    "top": "150px",
    "width": "325px"
   },
   "toc_section_display": true,
   "toc_window_display": true
  }
 },
 "nbformat": 4,
 "nbformat_minor": 2
}
