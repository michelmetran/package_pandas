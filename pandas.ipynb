{
 "cells": [
  {
   "cell_type": "markdown",
   "metadata": {},
   "source": [
    "---\n",
    "layout: post\n",
    "title: Folium\n",
    "subtitle: Exercícios e Referências\n",
    "tags: [python, pycharm, jupyter, package, folium]\n",
    "image: /img/posts/icon_Folium.png\n",
    "bigimg: /img/posts/big_Folium.png\n",
    "gh-repo: michelmetran/package_folium\n",
    "gh-badge: [star, fork, follow]\n",
    "comments: true\n",
    "---"
   ]
  },
  {
   "cell_type": "markdown",
   "metadata": {},
   "source": [
    "O <a title=\"Link do Folium\" href=\"https://python-visualization.github.io/folium/index.html\" target=\"_blank\">**_Folium_**</a> é um pacote que possibilita a criação de mapas _online_, facilitando a visualização dos dados manipulados no _Python_ em um mapa que usa a biblioteca JavaScript <a title=\"Link do Leaflet\" href=\"https://leafletjs.com/\" target=\"_blank\">**_Leaflet_**</a>.\n",
    "\n",
    "A biblioteca possui vários conjuntos de blocos internos do OpenStreetMap, Mapbox e Stamen, além de suportar conjuntos de blocos customizados com as chaves da API Mapbox ou Cloudmade. **_Folium_** suporta sobreposições de imagem, vídeo, GeoJSON e TopoJSON.\n",
    "<br>\n",
    "\n",
    "{: .box-warning}\n",
    "**Aviso:** Esse _post_ tem a finalidade de mostrar os comandos básicos e me deixar com uma \"cola\" rápida para meu uso cotidiano. Todas os códigos são exemplificativos e podem/devem ser alterados, indicando o nome dos arquivos e diretórios corretamente.\n",
    "\n",
    "{: .box-note}\n",
    "**Nota:** É possível acessar esse _post_ em <a title=\"Link do Folium\" href=\"https://github.com/michelmetran/package_folium/raw/master/docs/folium.pdf\" target=\"_blank\">**formato .pdf**</a> e, ainda, no <a title=\"Link do Repositório\" href=\"https://github.com/michelmetran/package_folium\" target=\"_blank\">**repositório do GitHub**</a>."
   ]
  },
  {
   "cell_type": "markdown",
   "metadata": {},
   "source": [
    "<br>\n",
    "\n",
    "## Importando Bibliotecas\n",
    "\n",
    "As bibliotecas básicas, ou _packages_, necessárias para criação do mapa são:\n",
    "- O **_Pandas_**, que tem a missão de trabalhar com dados, criar _subsets_, selecionar e filtros dados e;\n",
    "- O **_Folium_**, que é a biblioteca que cria, na prática, o mapa!"
   ]
  },
  {
   "cell_type": "code",
   "execution_count": 1,
   "metadata": {},
   "outputs": [],
   "source": [
    "import pandas as pd\n",
    "import folium"
   ]
  },
  {
   "cell_type": "code",
   "execution_count": 1,
   "metadata": {},
   "outputs": [
    {
     "ename": "NameError",
     "evalue": "name 'nbstripout' is not defined",
     "output_type": "error",
     "traceback": [
      "\u001b[0;31m---------------------------------------------------------------------------\u001b[0m",
      "\u001b[0;31mNameError\u001b[0m                                 Traceback (most recent call last)",
      "\u001b[0;32m<ipython-input-1-d60e0afb4c0f>\u001b[0m in \u001b[0;36m<module>\u001b[0;34m\u001b[0m\n\u001b[0;32m----> 1\u001b[0;31m \u001b[0mnbstripout\u001b[0m \u001b[0;34m-\u001b[0m\u001b[0;34m-\u001b[0m\u001b[0minstall\u001b[0m \u001b[0;34m-\u001b[0m\u001b[0;34m-\u001b[0m\u001b[0mattributes\u001b[0m \u001b[0;34m.\u001b[0m\u001b[0mgitattributes\u001b[0m\u001b[0;34m\u001b[0m\u001b[0;34m\u001b[0m\u001b[0m\n\u001b[0m",
      "\u001b[0;31mNameError\u001b[0m: name 'nbstripout' is not defined"
     ]
    }
   ],
   "source": [
    "nbstripout --install --attributes .gitattributes"
   ]
  },
  {
   "cell_type": "markdown",
   "metadata": {},
   "source": [
    "<br>\n",
    "\n",
    "## Criando um mapa\n",
    "\n",
    "Basta um par de coordenadas -- que pode ser obtida facilmente no _link_ de qualquer endereço usando <a title=\"Link do Google Maps\" href=\"https://www.google.com.br/maps\" target=\"_blank\">**_Google Maps_**</a> -- e um nível de zoom que o mapa já está criado."
   ]
  },
  {
   "cell_type": "code",
   "execution_count": 2,
   "metadata": {},
   "outputs": [
    {
     "data": {
      "text/html": [
       "<div style=\"width:100%;\"><div style=\"position:relative;width:100%;height:0;padding-bottom:60%;\"><iframe src=\"data:text/html;charset=utf-8;base64,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\" style=\"position:absolute;width:100%;height:100%;left:0;top:0;border:none !important;\" allowfullscreen webkitallowfullscreen mozallowfullscreen></iframe></div></div>"
      ],
      "text/plain": [
       "<folium.folium.Map at 0x7f63bf655cf8>"
      ]
     },
     "execution_count": 2,
     "metadata": {},
     "output_type": "execute_result"
    }
   ],
   "source": [
    "folium.Map(\n",
    "    location=[-23.9619271,-46.3427499],      # Define coordenadas iniciais\n",
    "    #min_zoom = 6,                           # Define qual o menor zoom\n",
    "    #max_zoom = 14,                          # Define qual o maior zoom\n",
    "    #no_wrap = True,\n",
    "    #max_bounds = True,\n",
    "    zoom_start=12                            # Define o zoom do início\n",
    ")"
   ]
  },
  {
   "cell_type": "markdown",
   "metadata": {},
   "source": [
    "Utilizando um conjunto de dados apresentado em <a title=\"Link de Jessica Temporal\" href=\"https://jtemporal.com/folium\" target=\"_blank\">**Jessica Temporal**</a>, contendo coordenadas geográficas de empresas, podemos extrair uma empresa específica e plotar no mapa, ou ainda trabalhar de outras maneiras com esses dados."
   ]
  },
  {
   "cell_type": "code",
   "execution_count": 3,
   "metadata": {},
   "outputs": [
    {
     "data": {
      "text/plain": [
       "name                           object\n",
       "situation                      object\n",
       "neighborhood                   object\n",
       "address                        object\n",
       "number                         object\n",
       "zip_code                       object\n",
       "city                           object\n",
       "state                          object\n",
       "cnpj                           object\n",
       "status                         object\n",
       "additional_address_details     object\n",
       "main_activity                  object\n",
       "latitude                      float64\n",
       "longitude                     float64\n",
       "dtype: object"
      ]
     },
     "execution_count": 3,
     "metadata": {},
     "output_type": "execute_result"
    }
   ],
   "source": [
    "# Lendo e filtrando dados\n",
    "empresas = pd.read_csv('../data/empresas.xz')\n",
    "empresas = empresas[empresas['state'] == 'SP']\n",
    "empresas = empresas[empresas['city'] == 'SANTOS']\n",
    "\n",
    "empresas.dtypes"
   ]
  },
  {
   "cell_type": "markdown",
   "metadata": {},
   "source": [
    "<br>\n",
    "\n",
    "### Inserindo algumas coordenadas"
   ]
  },
  {
   "cell_type": "code",
   "execution_count": 4,
   "metadata": {},
   "outputs": [
    {
     "data": {
      "text/html": [
       "<div style=\"width:100%;\"><div style=\"position:relative;width:100%;height:0;padding-bottom:60%;\"><iframe src=\"data:text/html;charset=utf-8;base64,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\" style=\"position:absolute;width:100%;height:100%;left:0;top:0;border:none !important;\" allowfullscreen webkitallowfullscreen mozallowfullscreen></iframe></div></div>"
      ],
      "text/plain": [
       "<folium.folium.Map at 0x7f63bce34860>"
      ]
     },
     "execution_count": 4,
     "metadata": {},
     "output_type": "execute_result"
    }
   ],
   "source": [
    "# Cria o mapa\n",
    "webmap = folium.Map(\n",
    "    location=[-23.9619271,-46.3427499],\n",
    "    zoom_start=12\n",
    ")\n",
    "\n",
    "# Extrai informações de duas empresas\n",
    "empresa1 = empresas.iloc[0]\n",
    "empresa2 = empresas.iloc[1]\n",
    "\n",
    "# Adiciona no mapa tais empresas\n",
    "folium.Marker(\n",
    "    location=[empresa1['latitude'], empresa1['longitude']],\n",
    ").add_to(webmap)\n",
    "\n",
    "folium.Marker(\n",
    "    location=[empresa2['latitude'], empresa2['longitude']],\n",
    ").add_to(webmap)\n",
    "\n",
    "# Apresenta o mapa\n",
    "webmap"
   ]
  },
  {
   "cell_type": "markdown",
   "metadata": {},
   "source": [
    "<br>\n",
    "\n",
    "### Inserindo multiplas coordenadas"
   ]
  },
  {
   "cell_type": "code",
   "execution_count": 5,
   "metadata": {},
   "outputs": [],
   "source": [
    "# Cria o mapa\n",
    "webmap = folium.Map(\n",
    "    location=[-23.9619271,-46.3427499],\n",
    "    zoom_start=12\n",
    ")\n",
    "\n",
    "# Adiciona todas as empresas selecionadas\n",
    "for _, empresa in empresas.iterrows():\n",
    "    folium.Marker(\n",
    "        location=[empresa['latitude'], empresa['longitude']],\n",
    "        tooltip=empresa['neighborhood'],\n",
    "    ).add_to(webmap)\n",
    "\n",
    "# Apresenta o mapa\n",
    "#webmap"
   ]
  },
  {
   "cell_type": "markdown",
   "metadata": {},
   "source": [
    "<br>\n",
    "\n",
    "## Tipos diferentes de Marcadores\n",
    "\n",
    "As feições que são possiveis de apresentar são àquelas típicas do geoprocessamento:\n",
    "- Pontos;\n",
    "- Linhas;\n",
    "- Polígonos\n",
    "\n",
    "Abaixo são apresentados alguns tipos de marcadores."
   ]
  },
  {
   "cell_type": "markdown",
   "metadata": {},
   "source": [
    "### Pontos Simples"
   ]
  },
  {
   "cell_type": "code",
   "execution_count": 6,
   "metadata": {},
   "outputs": [],
   "source": [
    "# Cria o mapa\n",
    "webmap = folium.Map(\n",
    "    location=[-23.9619271,-46.3427499],\n",
    "    zoom_start=12\n",
    ")\n",
    "\n",
    "# Cria cores para as tags\n",
    "colors = {\n",
    "    'PONTA DA PRAIA': 'pink',\n",
    "    'CENTRO': 'blue',\n",
    "    'GONZAGA': 'green',\n",
    "    'JOSÉ MENINO': 'red',\n",
    "    'EMBARE': 'beige',\n",
    "    'MACUCO': 'blue',\n",
    "    'VILA MATHIAS': 'lightblue',\n",
    "    'POMPEIA': 'red',\n",
    "    'APARECIDA': 'purple',\n",
    "}\n",
    "\n",
    "# Adiciona as diferentes empresas com cores por bairros\n",
    "for _, empresa in empresas.iterrows():\n",
    "    if empresa['neighborhood'] in colors.keys():\n",
    "        folium.Marker(\n",
    "            location=[empresa['latitude'], empresa['longitude']],\n",
    "            popup=empresa['name'],\n",
    "            tooltip=empresa['neighborhood'],\n",
    "            icon=folium.Icon(color=colors[empresa['neighborhood']], icon='leaf')\n",
    "        ).add_to(webmap)\n",
    "\n",
    "# Apresenta o mapa\n",
    "#webmap"
   ]
  },
  {
   "cell_type": "markdown",
   "metadata": {},
   "source": [
    "### Marcador Circular"
   ]
  },
  {
   "cell_type": "code",
   "execution_count": 7,
   "metadata": {},
   "outputs": [],
   "source": [
    "# Cria o mapa\n",
    "webmap = folium.Map(\n",
    "    location=[-23.9619271,-46.3427499],\n",
    "    zoom_start=12\n",
    ")\n",
    "\n",
    "# Adiciona as diferentes empresas com cores por bairros\n",
    "for _, empresa in empresas.iterrows():\n",
    "    if empresa['neighborhood'] in colors.keys():\n",
    "        folium.CircleMarker(\n",
    "        location=[empresa['latitude'], empresa['longitude']],        \n",
    "        radius=10,\n",
    "        popup='<strong>Empresa</strong>',\n",
    "        tooltip='Dica',\n",
    "        fill=True,\n",
    "        #fill_color='#428bca'\n",
    "        fill_color=colors[empresa['neighborhood']]\n",
    "    ).add_to(webmap)\n",
    "\n",
    "# Apresenta o mapa\n",
    "#webmap"
   ]
  },
  {
   "cell_type": "markdown",
   "metadata": {},
   "source": [
    "### Custom Icon"
   ]
  },
  {
   "cell_type": "code",
   "execution_count": 8,
   "metadata": {},
   "outputs": [],
   "source": [
    "#logoIcon = folium.features.CustomIcon('logo.png', icon_size=(50,50))"
   ]
  },
  {
   "cell_type": "markdown",
   "metadata": {},
   "source": [
    "### Vegas\n",
    "O _folium_ tem o vegas https://vega.github.io/vega/ como default"
   ]
  },
  {
   "cell_type": "code",
   "execution_count": 9,
   "metadata": {},
   "outputs": [],
   "source": [
    "# Cria o mapa\n",
    "webmap = folium.Map(\n",
    "    location=[-23.9619271,-46.3427499],\n",
    "    zoom_start=12\n",
    ")\n",
    "\n",
    "# Importa bibliotecas e lê o json\n",
    "import os\n",
    "import json\n",
    "vis = os.path.join('..','data', 'vis.json')\n",
    "\n",
    "\n",
    "# Adiciona as diferentes empresas com gráficos no popup\n",
    "for _, empresa in empresas.iterrows():\n",
    "    if empresa['neighborhood'] in colors.keys():\n",
    "        folium.Marker(\n",
    "            location=[empresa['latitude'], empresa['longitude']],            \n",
    "            popup=folium.Popup(max_width=450).add_child(folium.Vega(json.load(open(vis)), width=450, height=250))\n",
    ").add_to(webmap)\n",
    "        \n",
    "# Apresenta o mapa\n",
    "#webmap"
   ]
  },
  {
   "cell_type": "markdown",
   "metadata": {},
   "source": [
    "### Geojson\n",
    "\n",
    "É possivel também inserir desenhos em formato **_GeoJson_**, o que abre grandes possibilidades.\n",
    "Contudo, para rabiscos aleatórios, é possivel criar o arquivo usando http://geojson.io."
   ]
  },
  {
   "cell_type": "code",
   "execution_count": 10,
   "metadata": {
    "scrolled": false
   },
   "outputs": [
    {
     "data": {
      "text/html": [
       "<div style=\"width:100%;\"><div style=\"position:relative;width:100%;height:0;padding-bottom:60%;\"><iframe src=\"data:text/html;charset=utf-8;base64,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\" style=\"position:absolute;width:100%;height:100%;left:0;top:0;border:none !important;\" allowfullscreen webkitallowfullscreen mozallowfullscreen></iframe></div></div>"
      ],
      "text/plain": [
       "<folium.folium.Map at 0x7f63bce3da20>"
      ]
     },
     "execution_count": 10,
     "metadata": {},
     "output_type": "execute_result"
    }
   ],
   "source": [
    "# Cria o mapa\n",
    "webmap = folium.Map(\n",
    "    location=[-23.9619271,-46.3427499],\n",
    "    zoom_start=12\n",
    ")\n",
    "\n",
    "# Importa bibliotecas e lê o json\n",
    "import os\n",
    "import json\n",
    "shp = os.path.join('..', 'data', 'trajetos.json')\n",
    "\n",
    "# Adiciona as diferentes empresas com gráficos no popup\n",
    "folium.GeoJson(shp, name='Trajetos').add_to(webmap)\n",
    "        \n",
    "# Apresenta o mapa\n",
    "webmap"
   ]
  },
  {
   "cell_type": "markdown",
   "metadata": {},
   "source": [
    "### _Join_ e Categorias"
   ]
  },
  {
   "cell_type": "code",
   "execution_count": 11,
   "metadata": {},
   "outputs": [
    {
     "data": {
      "text/html": [
       "<div style=\"width:100%;\"><div style=\"position:relative;width:100%;height:0;padding-bottom:60%;\"><iframe src=\"data:text/html;charset=utf-8;base64,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\" style=\"position:absolute;width:100%;height:100%;left:0;top:0;border:none !important;\" allowfullscreen webkitallowfullscreen mozallowfullscreen></iframe></div></div>"
      ],
      "text/plain": [
       "<folium.folium.Map at 0x7f63be082be0>"
      ]
     },
     "execution_count": 11,
     "metadata": {},
     "output_type": "execute_result"
    }
   ],
   "source": [
    "import folium\n",
    "import pandas as pd\n",
    "import os\n",
    "\n",
    "states = os.path.join('..', 'data', 'us-states.json')\n",
    "unemployement_data = os.path.join('..', 'data', 'us_unemployment.csv')\n",
    "state_data = pd.read_csv(unemployement_data)\n",
    "\n",
    "m = folium.Map(location=[48, -102], zoom_start=3)\n",
    "\n",
    "folium.Choropleth(\n",
    "    geo_data=states,\n",
    "    name='choropleth',\n",
    "    data=state_data,\n",
    "    columns=['State', 'Unemployment'],\n",
    "    key_on='feature.id',\n",
    "    fill_color='YlGn',\n",
    "    fill_opacity=0.7,\n",
    "    line_opacity=0.2,\n",
    "    legend_name='Unemployment Rate %'\n",
    ").add_to(m)\n",
    "\n",
    "folium.LayerControl().add_to(m)\n",
    "m\n",
    "#m.save('../maps/map_us.html')"
   ]
  },
  {
   "cell_type": "markdown",
   "metadata": {},
   "source": [
    "<br>\n",
    "\n",
    "## Basemap"
   ]
  },
  {
   "cell_type": "markdown",
   "metadata": {},
   "source": [
    "O mapa pode ter diferentes _basemaps_, que são, na essência, o mapa de fundo renderizado em _titles_. O _folium_ utiliza, por _default_, o basemap do _OpenStreetMap_, contudo existe a possibilidade d eadicionar outros serviços, conforme se vê abaixo."
   ]
  },
  {
   "cell_type": "code",
   "execution_count": 12,
   "metadata": {},
   "outputs": [
    {
     "data": {
      "text/html": [
       "<div style=\"width:100%;\"><div style=\"position:relative;width:100%;height:0;padding-bottom:60%;\"><iframe src=\"data:text/html;charset=utf-8;base64,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\" style=\"position:absolute;width:100%;height:100%;left:0;top:0;border:none !important;\" allowfullscreen webkitallowfullscreen mozallowfullscreen></iframe></div></div>"
      ],
      "text/plain": [
       "<folium.folium.Map at 0x7f63be0823c8>"
      ]
     },
     "execution_count": 12,
     "metadata": {},
     "output_type": "execute_result"
    }
   ],
   "source": [
    "folium.Map(\n",
    "    location=[-23.9619271,-46.3427499],\n",
    "    #tiles='Mapbox Bright',\n",
    "    #tiles='Mapbox Control Room',\n",
    "    #tiles='Stamen Toner',\n",
    "    tiles='Stamen Terrain',\n",
    "    #tiles='OpenStreetMap',\n",
    "    zoom_start=12\n",
    ")"
   ]
  },
  {
   "cell_type": "markdown",
   "metadata": {},
   "source": [
    "Um outro jeito de inserir _basemaps_ é utilizado o <a title=\"Link do MapBox\" href=\"https://www.mapbox.com\" target=\"_blank\">MapBox</a>, onde é possível customizar um _basemap_ personalizado, bem como utilizar outros _basemaps_ pré-existentes, incluindo imagens de satélite de alta resolução, etc.\n",
    "\n",
    "Para melhor utilização, com a possiblidade de disponibilizar códigos, é necessário estudar a melhor maneira de ocultar a _API key_. Um início:\n",
    "- http://www.blacktechdiva.com/hide-api-keys/\n",
    "- https://www.quora.com/How-do-you-hide-your-API-customer-key-token-when-youre-pushing-code-to-Github"
   ]
  },
  {
   "cell_type": "code",
   "execution_count": 13,
   "metadata": {},
   "outputs": [],
   "source": [
    "#folium.Map(location=[-23.9619271,-46.3427499],\n",
    "#           tiles='Mapbox',\n",
    "#           API_key='your.API.key',\n",
    "#           zoom_start=12\n",
    "#          )"
   ]
  },
  {
   "cell_type": "markdown",
   "metadata": {},
   "source": [
    "Por fim, é possivel ainda inserir _basemaps_ personalizados, disponibilizados em algum servidor."
   ]
  },
  {
   "cell_type": "code",
   "execution_count": 14,
   "metadata": {},
   "outputs": [
    {
     "data": {
      "text/html": [
       "<div style=\"width:100%;\"><div style=\"position:relative;width:100%;height:0;padding-bottom:60%;\"><iframe src=\"data:text/html;charset=utf-8;base64,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\" style=\"position:absolute;width:100%;height:100%;left:0;top:0;border:none !important;\" allowfullscreen webkitallowfullscreen mozallowfullscreen></iframe></div></div>"
      ],
      "text/plain": [
       "<folium.folium.Map at 0x7f63be003e48>"
      ]
     },
     "execution_count": 14,
     "metadata": {},
     "output_type": "execute_result"
    }
   ],
   "source": [
    "# Cria o mapa com servidores dos tiles\n",
    "folium.Map(location=[-23.9619271,-46.3427499],\n",
    "           zoom_start=12,\n",
    "           tiles='http://{s}.tile.osm.org/{z}/{x}/{y}.png',\n",
    "           attr='s'\n",
    "          )"
   ]
  },
  {
   "cell_type": "code",
   "execution_count": 15,
   "metadata": {},
   "outputs": [],
   "source": [
    "# %load '~/Documents/SourceCode/Codes/maps/create_tiles_folium.py'\n",
    "def create_tiles_folium(tile_service=1, location=[-23.9619271, -46.3427499], zoom_start=10):\n",
    "    \"\"\"\n",
    "    Function to create map using tiles... a list of them\n",
    "    - https://www.spatialbias.com/2018/02/qgis-3.0-xyz-tile-layers/\n",
    "    - https://xyz.michelstuyts.be/\n",
    "    - https://www.trailnotes.org/FetchMap/TileServeSource.html\n",
    "\n",
    "    :param tile_service:\n",
    "    :param location:\n",
    "    :param zoom_start:\n",
    "    :return:\n",
    "    \"\"\"\n",
    "    # Import Packages\n",
    "    import pandas as pd\n",
    "    import folium\n",
    "\n",
    "    # Read table with all tiles servers\n",
    "    tiles_services = pd.read_csv('~/Documents/SourceCode/Codes/data/tiles.csv', index_col=0)\n",
    "    # print(tiles_services)\n",
    "\n",
    "    # Create reference to attribution\n",
    "    ref = ('<a href=\"' +\n",
    "           tiles_services.loc[tile_service, 'attribution'] +\n",
    "           '\" target=\"blank\">' +\n",
    "           tiles_services.loc[tile_service, 'name'] +\n",
    "           '</a>')\n",
    "\n",
    "    return folium.Map(location=location,\n",
    "                      zoom_start=zoom_start,\n",
    "                      tiles=tiles_services.loc[tile_service, 'link'],\n",
    "                      attr=ref)\n"
   ]
  },
  {
   "cell_type": "code",
   "execution_count": 16,
   "metadata": {},
   "outputs": [
    {
     "data": {
      "text/html": [
       "<div style=\"width:100%;\"><div style=\"position:relative;width:100%;height:0;padding-bottom:60%;\"><iframe src=\"data:text/html;charset=utf-8;base64,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\" style=\"position:absolute;width:100%;height:100%;left:0;top:0;border:none !important;\" allowfullscreen webkitallowfullscreen mozallowfullscreen></iframe></div></div>"
      ],
      "text/plain": [
       "<folium.folium.Map at 0x7f63be003a20>"
      ]
     },
     "execution_count": 16,
     "metadata": {},
     "output_type": "execute_result"
    }
   ],
   "source": [
    "create_tiles_folium(1)"
   ]
  },
  {
   "cell_type": "markdown",
   "metadata": {},
   "source": [
    "<br>\n",
    "\n",
    "### Outros elementos do _WebMap_"
   ]
  },
  {
   "cell_type": "code",
   "execution_count": 17,
   "metadata": {},
   "outputs": [
    {
     "data": {
      "text/html": [
       "<div style=\"width:100%;\"><div style=\"position:relative;width:100%;height:0;padding-bottom:60%;\"><iframe src=\"data:text/html;charset=utf-8;base64,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\" style=\"position:absolute;width:100%;height:100%;left:0;top:0;border:none !important;\" allowfullscreen webkitallowfullscreen mozallowfullscreen></iframe></div></div>"
      ],
      "text/plain": [
       "<folium.folium.Map at 0x7f63bce3da20>"
      ]
     },
     "execution_count": 17,
     "metadata": {},
     "output_type": "execute_result"
    }
   ],
   "source": [
    "# Adiciona legenda\n",
    "folium.LayerControl().add_to(webmap)\n",
    "webmap\n",
    "\n",
    "# Adiciona a possibilidade de pontos, on-the-fly\n",
    "webmap.add_child(folium.ClickForMarker(popup='Waypoint'))\n",
    "\n",
    "# Adiciona a possibilidade de, a cada clique, descobrir as coordenadas\n",
    "webmap.add_child(folium.LatLngPopup())"
   ]
  },
  {
   "cell_type": "code",
   "execution_count": 18,
   "metadata": {},
   "outputs": [
    {
     "data": {
      "text/html": [
       "<div style=\"width:100%;\"><div style=\"position:relative;width:100%;height:0;padding-bottom:60%;\"><iframe src=\"data:text/html;charset=utf-8;base64,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\" style=\"position:absolute;width:100%;height:100%;left:0;top:0;border:none !important;\" allowfullscreen webkitallowfullscreen mozallowfullscreen></iframe></div></div>"
      ],
      "text/plain": [
       "<folium.folium.Map at 0x7f63be0352b0>"
      ]
     },
     "execution_count": 18,
     "metadata": {},
     "output_type": "execute_result"
    }
   ],
   "source": [
    "# Cria o mapa\n",
    "webmap = folium.Map(\n",
    "    location=[-23.9619271,-46.3427499],\n",
    "    zoom_start=12\n",
    ")\n",
    "\n",
    "# Cálculo de Distâncias\n",
    "from folium import plugins\n",
    "\n",
    "# Adiciona ferramenta de medição\n",
    "from folium.plugins import MeasureControl\n",
    "webmap.add_child(MeasureControl())\n",
    "\n",
    "# Fairly obvious I imagine - works best with transparent backgrounds\n",
    "from folium.plugins import FloatImage\n",
    "url = ('https://media.licdn.com/mpr/mpr/shrinknp_100_100/AAEAAQAAAAAAAAlgAAAAJGE3OTA4YTdlLTkzZjUtNDFjYy1iZThlLWQ5OTNkYzlhNzM4OQ.jpg')\n",
    "FloatImage(url, bottom=5, left=85).add_to(webmap)\n",
    "\n",
    "plugins.Fullscreen(\n",
    "    position='topleft',\n",
    "    title='Clique para Maximizar',\n",
    "    title_cancel='Mininizar',\n",
    "    force_separate_button=True).add_to(webmap)\n",
    "\n",
    "# Apresenta o mapa\n",
    "webmap"
   ]
  },
  {
   "cell_type": "markdown",
   "metadata": {},
   "source": [
    "<br>\n",
    "\n",
    "## Salvar o mapa em HTML\n",
    "\n",
    "A grande vantagem é salvar o mapa como um arquivo _.html_, bastante possivel para dar um _embed_ em qualquer página. Para salvar o resultado em um dado local, criei uma função que pode contribuir, avaliando se determinadas pastas estão criadas e, em caso negativo, cria as mesmas. Em uma destas pastas que ficará salvo o arquivo _.html_ criado"
   ]
  },
  {
   "cell_type": "code",
   "execution_count": 19,
   "metadata": {},
   "outputs": [],
   "source": [
    "# %load '~/Documents/SourceCode/Codes/files/create_folders.py'\n",
    "def create_folders(path, folders=['code', 'data', 'docs', 'maps']):\n",
    "    \"\"\"\n",
    "    :param folders: Name os folders that you want create; E.g.: ['folder1', 'folder2']\n",
    "    :return: Create directories if not exist\n",
    "    \"\"\"\n",
    "    # Import Packages\n",
    "    import os\n",
    "    for folder in folders:\n",
    "        directory=os.path.join(path, folder)\n",
    "        try:\n",
    "            if not os.path.exists(directory):\n",
    "                os.makedirs(directory)\n",
    "                print('Directory \"', directory, '\" created!', sep='')\n",
    "            else:\n",
    "                print('Directory \"', directory, '\" already exists...', sep='')\n",
    "        except OSError:\n",
    "            print('Error: Creating directory \"', directory, '\" fail.', sep='')\n"
   ]
  },
  {
   "cell_type": "code",
   "execution_count": 20,
   "metadata": {},
   "outputs": [
    {
     "name": "stdout",
     "output_type": "stream",
     "text": [
      "/home/michel/Documents/SourceCode/package_folium/code\n"
     ]
    }
   ],
   "source": [
    "#from importlib import reload\n",
    "#reload(os)\n",
    "# Pasta Atual\n",
    "path_script = os.getcwd()\n",
    "print(path_script)"
   ]
  },
  {
   "cell_type": "code",
   "execution_count": 21,
   "metadata": {},
   "outputs": [
    {
     "name": "stdout",
     "output_type": "stream",
     "text": [
      "/home/michel/Documents/SourceCode/package_folium\n"
     ]
    }
   ],
   "source": [
    "# Altera a pasta para um nível acima\n",
    "os.chdir('/home/michel/Documents/SourceCode/package_folium')\n",
    "\n",
    "# Pasta Atual\n",
    "print(os.getcwd())"
   ]
  },
  {
   "cell_type": "code",
   "execution_count": 22,
   "metadata": {},
   "outputs": [
    {
     "name": "stdout",
     "output_type": "stream",
     "text": [
      "Directory \"code\" already exists...\n",
      "Directory \"data\" already exists...\n",
      "Directory \"docs\" already exists...\n",
      "Directory \"maps\" already exists...\n"
     ]
    }
   ],
   "source": [
    "create_folders('')"
   ]
  },
  {
   "cell_type": "code",
   "execution_count": 23,
   "metadata": {},
   "outputs": [],
   "source": [
    "os.chdir(path_script)"
   ]
  },
  {
   "cell_type": "code",
   "execution_count": 24,
   "metadata": {},
   "outputs": [
    {
     "name": "stdout",
     "output_type": "stream",
     "text": [
      "/home/michel/Documents/SourceCode/package_folium/code\n"
     ]
    }
   ],
   "source": [
    "print(os.getcwd())"
   ]
  },
  {
   "cell_type": "code",
   "execution_count": 25,
   "metadata": {},
   "outputs": [],
   "source": [
    "webmap.save('../maps/map.html')"
   ]
  },
  {
   "cell_type": "markdown",
   "metadata": {},
   "source": [
    "O mapa em _.html_, que é possivel acessar por usando o <a title=\"Link do GitHack\" href=\"https://raw.githack.com\" target=\"_blank\">**_githack.com_**</a>. conforme segue:\n",
    "\n",
    "<iframe src=\"https://raw.githack.com/michelmetran/package_folium/master/maps/map.html\" width=\"800\" height=\"300\" frameborder=\"0\"></iframe>"
   ]
  },
  {
   "cell_type": "markdown",
   "metadata": {},
   "source": [
    "<br>\n",
    "\n",
    "## Exportando o _Juptyter Notebook_ para outros formatos\n",
    "Caso esse códigos sirvam para "
   ]
  },
  {
   "cell_type": "code",
   "execution_count": 29,
   "metadata": {},
   "outputs": [],
   "source": [
    "# %load '~/Documents/SourceCode/Codes/files/get_jupyternotebook_name.py'\n",
    "def get_jupyternotebook_name():\n",
    "    \"\"\"\n",
    "    Returns the name of the current notebook as a string\n",
    "    From https://mail.scipy.org/pipermail/ipython-dev/2014-June/014096.html\n",
    "    :return: Returns the name of the current notebook as a string\n",
    "    \"\"\"\n",
    "    # Import Packages\n",
    "    from IPython.core.display import Javascript\n",
    "    from IPython.display import display\n",
    "\n",
    "    display(Javascript('IPython.notebook.kernel.execute(\"theNotebook = \" + \\\n",
    "    \"\\'\"+IPython.notebook.notebook_name+\"\\'\");'))\n",
    "\n",
    "    # Result\n",
    "    return theNotebook\n"
   ]
  },
  {
   "cell_type": "code",
   "execution_count": 27,
   "metadata": {},
   "outputs": [],
   "source": [
    "# %load '~/Documents/SourceCode/Codes/files/export_jupyter.py'            \n",
    "def export_jupyter(path, extensions=['html', 'markdown', 'latex', 'pdf', 'python'], today=True):\n",
    "    \"\"\"\n",
    "    Export .ipynb file to others formats\n",
    "    :return: File in other formats\n",
    "    \"\"\"\n",
    "    # Import Packages\n",
    "    import os\n",
    "    import datetime\n",
    "\n",
    "    # Data\n",
    "    timestamp = datetime.datetime.now()\n",
    "    srt_today = (str(timestamp.year) + '-' +\n",
    "                 str(f\"{timestamp.month:02d}\") + '-' +\n",
    "                 str(f\"{timestamp.day:02d}\"))\n",
    "\n",
    "    # Extensions\n",
    "    for extension in extensions:\n",
    "        if today==True:\n",
    "            os.system('jupyter nbconvert --to {} {} --output {}'.\n",
    "                      format(extension, get_jupyternotebook_name(),\n",
    "                             os.path.join(path, srt_today+'-'+get_jupyternotebook_name().split('.')[0])))\n",
    "            print('Arquivo {} exportado corretamente para o formato {} usando prefixo da data.'.\n",
    "                  format(get_jupyternotebook_name(), extension))\n",
    "\n",
    "        else:\n",
    "            os.system('jupyter nbconvert --to {} {} --output {}'.\n",
    "                      format(extension, get_jupyternotebook_name(),\n",
    "                             os.path.join(path, get_jupyternotebook_name().split('.')[0])))\n",
    "            print('Arquivo {} exportado corretamente para o formato {} sem usar prefixo da data.'.\n",
    "                  format(get_jupyternotebook_name(), extension))\n"
   ]
  },
  {
   "cell_type": "code",
   "execution_count": 30,
   "metadata": {},
   "outputs": [
    {
     "data": {
      "application/javascript": [
       "IPython.notebook.kernel.execute(\"theNotebook = \" +     \"'\"+IPython.notebook.notebook_name+\"'\");"
      ],
      "text/plain": [
       "<IPython.core.display.Javascript object>"
      ]
     },
     "metadata": {},
     "output_type": "display_data"
    },
    {
     "data": {
      "application/javascript": [
       "IPython.notebook.kernel.execute(\"theNotebook = \" +     \"'\"+IPython.notebook.notebook_name+\"'\");"
      ],
      "text/plain": [
       "<IPython.core.display.Javascript object>"
      ]
     },
     "metadata": {},
     "output_type": "display_data"
    },
    {
     "data": {
      "application/javascript": [
       "IPython.notebook.kernel.execute(\"theNotebook = \" +     \"'\"+IPython.notebook.notebook_name+\"'\");"
      ],
      "text/plain": [
       "<IPython.core.display.Javascript object>"
      ]
     },
     "metadata": {},
     "output_type": "display_data"
    },
    {
     "name": "stdout",
     "output_type": "stream",
     "text": [
      "Arquivo folium.ipynb exportado corretamente para o formato pdf sem usar prefixo da data.\n"
     ]
    }
   ],
   "source": [
    "export_jupyter('../docs',['pdf'], False)"
   ]
  },
  {
   "cell_type": "code",
   "execution_count": 31,
   "metadata": {},
   "outputs": [
    {
     "data": {
      "application/javascript": [
       "IPython.notebook.kernel.execute(\"theNotebook = \" +     \"'\"+IPython.notebook.notebook_name+\"'\");"
      ],
      "text/plain": [
       "<IPython.core.display.Javascript object>"
      ]
     },
     "metadata": {},
     "output_type": "display_data"
    },
    {
     "data": {
      "application/javascript": [
       "IPython.notebook.kernel.execute(\"theNotebook = \" +     \"'\"+IPython.notebook.notebook_name+\"'\");"
      ],
      "text/plain": [
       "<IPython.core.display.Javascript object>"
      ]
     },
     "metadata": {},
     "output_type": "display_data"
    },
    {
     "data": {
      "application/javascript": [
       "IPython.notebook.kernel.execute(\"theNotebook = \" +     \"'\"+IPython.notebook.notebook_name+\"'\");"
      ],
      "text/plain": [
       "<IPython.core.display.Javascript object>"
      ]
     },
     "metadata": {},
     "output_type": "display_data"
    },
    {
     "name": "stdout",
     "output_type": "stream",
     "text": [
      "Arquivo folium.ipynb exportado corretamente para o formato markdown usando prefixo da data.\n"
     ]
    },
    {
     "data": {
      "application/javascript": [
       "IPython.notebook.kernel.execute(\"theNotebook = \" +     \"'\"+IPython.notebook.notebook_name+\"'\");"
      ],
      "text/plain": [
       "<IPython.core.display.Javascript object>"
      ]
     },
     "metadata": {},
     "output_type": "display_data"
    },
    {
     "data": {
      "application/javascript": [
       "IPython.notebook.kernel.execute(\"theNotebook = \" +     \"'\"+IPython.notebook.notebook_name+\"'\");"
      ],
      "text/plain": [
       "<IPython.core.display.Javascript object>"
      ]
     },
     "metadata": {},
     "output_type": "display_data"
    },
    {
     "data": {
      "application/javascript": [
       "IPython.notebook.kernel.execute(\"theNotebook = \" +     \"'\"+IPython.notebook.notebook_name+\"'\");"
      ],
      "text/plain": [
       "<IPython.core.display.Javascript object>"
      ]
     },
     "metadata": {},
     "output_type": "display_data"
    },
    {
     "name": "stdout",
     "output_type": "stream",
     "text": [
      "Arquivo folium.ipynb exportado corretamente para o formato markdown usando prefixo da data.\n"
     ]
    }
   ],
   "source": [
    "export_jupyter('../docs',['markdown'], True)\n",
    "export_jupyter('/home/michel/Documents/SourceCode/michelmetran.github.io/_posts', ['markdown'], True)"
   ]
  },
  {
   "cell_type": "markdown",
   "metadata": {},
   "source": [
    "<br>\n",
    "\n",
    "## Atualizando Repositório do Projeto"
   ]
  },
  {
   "cell_type": "code",
   "execution_count": 32,
   "metadata": {},
   "outputs": [
    {
     "name": "stdout",
     "output_type": "stream",
     "text": [
      "/home/michel/Documents/SourceCode/package_folium/code\n",
      "/home/michel/Documents/SourceCode/package_folium\n"
     ]
    }
   ],
   "source": [
    "import os\n",
    "\n",
    "# Pasta Atual\n",
    "print(os.getcwd())\n",
    "\n",
    "# Altera a pasta para um nível acima\n",
    "os.chdir('/home/michel/Documents/SourceCode/package_folium')\n",
    "\n",
    "# Confere a pasta\n",
    "print(os.getcwd())"
   ]
  },
  {
   "cell_type": "code",
   "execution_count": 33,
   "metadata": {},
   "outputs": [
    {
     "name": "stdout",
     "output_type": "stream",
     "text": [
      "[master 00aa3dc] Initial commit\n",
      " 4 files changed, 65 insertions(+), 120 deletions(-)\n",
      " rewrite docs/folium.pdf (75%)\n",
      "Counting objects: 9, done.\n",
      "Delta compression using up to 4 threads.\n",
      "Compressing objects: 100% (7/7), done.\n",
      "Writing objects: 100% (9/9), 85.56 KiB | 3.72 MiB/s, done.\n",
      "Total 9 (delta 3), reused 0 (delta 0)\n",
      "remote: Resolving deltas: 100% (3/3), completed with 3 local objects.\u001b[K\n",
      "To github.com:michelmetran/package_folium\n",
      "   4eb43c2..00aa3dc  master -> master\n",
      "Branch 'master' set up to track remote branch 'master' from 'origin'.\n"
     ]
    }
   ],
   "source": [
    "!git add --all\n",
    "!git commit -m \"Initial commit\"\n",
    "!git push -u origin master"
   ]
  },
  {
   "cell_type": "markdown",
   "metadata": {},
   "source": [
    "<br>\n",
    "\n",
    "## Atualizando Repositório do Site"
   ]
  },
  {
   "cell_type": "code",
   "execution_count": 34,
   "metadata": {},
   "outputs": [
    {
     "name": "stdout",
     "output_type": "stream",
     "text": [
      "/home/michel/Documents/SourceCode/package_folium\n",
      "/home/michel/Documents/SourceCode/michelmetran.github.io\n"
     ]
    }
   ],
   "source": [
    "import os\n",
    "\n",
    "# Pasta Atual\n",
    "print(os.getcwd())\n",
    "\n",
    "# Altera a pasta para um nível acima\n",
    "os.chdir('/home/michel/Documents/SourceCode/michelmetran.github.io')\n",
    "\n",
    "# Confere a pasta\n",
    "print(os.getcwd())"
   ]
  },
  {
   "cell_type": "code",
   "execution_count": 35,
   "metadata": {},
   "outputs": [
    {
     "name": "stdout",
     "output_type": "stream",
     "text": [
      "[master 5c4cedb] Initial commit\n",
      " 1 file changed, 26 insertions(+), 25 deletions(-)\n",
      "Counting objects: 4, done.\n",
      "Delta compression using up to 4 threads.\n",
      "Compressing objects: 100% (4/4), done.\n",
      "Writing objects: 100% (4/4), 3.24 KiB | 276.00 KiB/s, done.\n",
      "Total 4 (delta 3), reused 0 (delta 0)\n",
      "remote: Resolving deltas: 100% (3/3), completed with 3 local objects.\u001b[K\n",
      "To github.com:michelmetran/michelmetran.github.io.git\n",
      "   f29f26f..5c4cedb  master -> master\n",
      "Branch 'master' set up to track remote branch 'master' from 'origin'.\n"
     ]
    }
   ],
   "source": [
    "!git add --all\n",
    "!git commit -m \"Initial commit\"\n",
    "!git push -u origin master"
   ]
  },
  {
   "cell_type": "markdown",
   "metadata": {},
   "source": [
    "<br>\n",
    "\n",
    "## Referências\n",
    "- https://www.freecodecamp.org/news/real-world-data-science-project-traffic-accident-analysis-e5a36775ee11/\n",
    "- Muita coisa interessante em https://www.youtube.com/watch?v=4RnU5qKTfYY\n",
    "- https://jtemporal.com/folium/\n",
    "- https://www.kaggle.com/rachan/how-to-folium-for-maps-heatmaps-time-analysis"
   ]
  }
 ],
 "metadata": {
  "kernelspec": {
   "display_name": "Python [conda env:pablocarreira-py36] *",
   "language": "python",
   "name": "conda-env-pablocarreira-py36-py"
  },
  "language_info": {
   "codemirror_mode": {
    "name": "ipython",
    "version": 3
   },
   "file_extension": ".py",
   "mimetype": "text/x-python",
   "name": "python",
   "nbconvert_exporter": "python",
   "pygments_lexer": "ipython3",
   "version": "3.6.7"
  }
 },
 "nbformat": 4,
 "nbformat_minor": 2
}
